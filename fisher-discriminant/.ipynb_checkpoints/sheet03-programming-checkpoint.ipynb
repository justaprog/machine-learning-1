{
 "cells": [
  {
   "cell_type": "markdown",
   "metadata": {},
   "source": [
    "# Fisher Linear Discriminant\n",
    "\n",
    "In this exercise, we apply Fisher Linear Discriminant as described in Chapter 3.8.2 of Duda et al. on the UCI Abalone dataset. A description of the dataset is given at the page https://archive.ics.uci.edu/ml/datasets/Abalone. The following two methods are provided for your convenience: \n",
    "\n",
    "\n",
    "* **`utils.Abalone.__init__(self)`** reads the Abalone data and instantiates two data matrices corresponding to: *infant (I)*, *non-infant (N)*.\n",
    "\n",
    "\n",
    "* **`utils.Abalone.plot(self,w)`** produces a histogram of the data when projected onto a vector `w`, and where each class is shown in a different color.\n",
    "\n",
    "\n",
    "Sample code that makes use of these two methods is given below. It loads the data, looks at the shape of instantiated matrices, and plots the projection on the first dimension of the data representing the length of the abalone."
   ]
  },
  {
   "cell_type": "code",
   "execution_count": 1,
   "metadata": {
    "execution": {
     "iopub.execute_input": "2024-10-01T12:58:17.409978Z",
     "iopub.status.busy": "2024-10-01T12:58:17.409890Z",
     "iopub.status.idle": "2024-10-01T12:58:18.045137Z",
     "shell.execute_reply": "2024-10-01T12:58:18.044588Z"
    }
   },
   "outputs": [
    {
     "name": "stderr",
     "output_type": "stream",
     "text": [
      "/usr/local/lib/python3.10/dist-packages/matplotlib/projections/__init__.py:63: UserWarning: Unable to import Axes3D. This may be due to multiple versions of Matplotlib being installed (e.g. as a system package and as a pip package). As a result, the 3D projection is not available.\n",
      "  warnings.warn(\"Unable to import Axes3D. This may be due to multiple versions of \"\n"
     ]
    },
    {
     "name": "stdout",
     "output_type": "stream",
     "text": [
      "(1342, 7) (2835, 7)\n"
     ]
    },
    {
     "data": {
      "image/png": "[encoded data removed]",
      "text/plain": [
       "<Figure size 432x144 with 1 Axes>"
      ]
     },
     "metadata": {
      "needs_background": "light"
     },
     "output_type": "display_data"
    }
   ],
   "source": [
    "%matplotlib inline\n",
    "import utils,numpy\n",
    "\n",
    "# Load the data\n",
    "abalone = utils.Abalone()\n",
    "\n",
    "# Print dataset size for each class\n",
    "print(abalone.I.shape, abalone.N.shape)\n",
    "\n",
    "# Project data on the first dimension\n",
    "w1 = numpy.array([1,0,0,0,0,0,0])\n",
    "abalone.plot(w1,'projection on the first dimension (length)')"
   ]
  },
  {
   "cell_type": "markdown",
   "metadata": {},
   "source": [
    "## Implementation (10 + 5 + 5 = 20 P)\n",
    "\n",
    "* **Create a function `w = fisher(X1,X2)` that takes as input the data for two classes and returns the Fisher linear discriminant.**\n",
    "\n",
    "\n",
    "* **Create a function `objective(X1,X2,w)` that evaluates the objective defined in Equation 96 of Duda et al. for an arbitrary projection vector `w`.**\n",
    "\n",
    "\n",
    "* **Create a function `z = phi(X)` that returns a quadratic expansion for each data point `x` in the dataset. Such expansion consists of the vector `x` itself, to which we concatenate the vector of all pairwise products between elements of `x`.** In other words, letting $x = (x_1,\\dots,x_d)$ denote the $d$-dimensional data point, the quadratic expansion for this data point is a $d \\cdot (d+3)/2$ dimensional vector given by $\\phi(x) = (x_i)_{1 \\leq i \\leq d} \\cup (x_i x_j)_{1 \\leq i \\leq j \\leq d}$. For example, the quadratic expansion for $d=2$ is $(x_1,x_2,x_1^2,x_2^2,x_1 x_2)$."
   ]
  },
  {
   "cell_type": "code",
   "execution_count": 2,
   "metadata": {
    "execution": {
     "iopub.execute_input": "2024-10-01T12:58:18.077751Z",
     "iopub.status.busy": "2024-10-01T12:58:18.077424Z",
     "iopub.status.idle": "2024-10-01T12:58:18.091681Z",
     "shell.execute_reply": "2024-10-01T12:58:18.082489Z"
    }
   },
   "outputs": [],
   "source": [
    "def fisher(X1,X2):\n",
    "    ##### Replace by your code\n",
    "    m1 = np.mean(X1, axis=0)\n",
    "    m2 = np.mean(X2, axis=0)\n",
    "    s1 = (X1 - m1).T @ (X1 - m1)\n",
    "    s2 = (X2 - m2).T @ (X2 - m2)\n",
    "    sw = s1 + s2\n",
    "    w = np.linalg.inv(sw) @ (m1 - m2).reshape(-1, 1)\n",
    "    w_normalized = w / np.linalg.norm(w)\n",
    "    return w_normalized\n",
    "\n",
    "    #####\n",
    "    \n",
    "def objective(X1,X2,w):\n",
    "    ##### Replace by your code\n",
    "    mu1 = np.mean(X1, axis=0)\n",
    "    mu2 = np.mean(X2, axis=0)\n",
    "    S1 = (X1 - mu1).T @ (X1 - mu1)\n",
    "    S2 = (X2 - mu2).T @ (X2 - mu2)\n",
    "    Sw = S1 + S2\n",
    "    numerator = (w.T @ (mu2 - mu1)) ** 2\n",
    "    denominator = w.T @ Sw @ w\n",
    "    return numerator / denominator\n",
    "    #####\n",
    "    \n",
    "def expand(X):\n",
    "    ##### Replace by your code\n",
    "    n, d = X.shape\n",
    "    expanded_data = []\n",
    "    for data in X:\n",
    "        new_data = list(data)\n",
    "        for i in range(d):\n",
    "            for j in range(i, d):\n",
    "                new_data.append(data[i] * data[j])\n",
    "        expanded_data.append(new_data)\n",
    "    return np.array(expanded_data)\n",
    "\n",
    "    #####"
   ]
  },
  {
   "cell_type": "markdown",
   "metadata": {},
   "source": [
    "## Analysis (5 + 5 = 10 P)\n",
    "\n",
    "* **Print value of the objective function and the histogram for several values of `w`:**\n",
    "\n",
    "  * `w` is a canonical coordinate vector for the first feature (length).\n",
    "  * `w` is the difference between the mean vectors of the two classes.\n",
    "  * `w` is the Fisher linear discriminant.\n",
    "  * `w` is the Fisher linear discriminant (after quadratic expansion of the data)."
   ]
  },
  {
   "cell_type": "code",
   "execution_count": 3,
   "metadata": {
    "execution": {
     "iopub.execute_input": "2024-10-01T12:58:18.105292Z",
     "iopub.status.busy": "2024-10-01T12:58:18.104991Z",
     "iopub.status.idle": "2024-10-01T12:58:18.519137Z",
     "shell.execute_reply": "2024-10-01T12:58:18.518730Z"
    }
   },
   "outputs": [
    {
     "ename": "SyntaxError",
     "evalue": "invalid character '↪' (U+21AA) (605064039.py, line 21)",
     "output_type": "error",
     "traceback": [
      "\u001b[0;36m  File \u001b[0;32m\"/tmp/ipykernel_1273/605064039.py\"\u001b[0;36m, line \u001b[0;32m21\u001b[0m\n\u001b[0;31m    ↪I),w))\u001b[0m\n\u001b[0m    ^\u001b[0m\n\u001b[0;31mSyntaxError\u001b[0m\u001b[0;31m:\u001b[0m invalid character '↪' (U+21AA)\n"
     ]
    }
   ],
   "source": [
    "##### REPLACE BY YOUR CODE\n",
    "%matplotlib inline\n",
    "import utils,numpy as np\n",
    "# Load the data\n",
    "abalone = utils.Abalone()\n",
    "# Project data on the first dimension\n",
    "w1 = np.array([1,0,0,0,0,0,0])\n",
    "abalone.plot(w1,'projection on the first dimension (length)')\n",
    "mean_I = np.mean(abalone.I, axis=0)\n",
    "mean_N = np.mean(abalone.N, axis=0)\n",
    "w = mean_I - mean_N\n",
    "print(\"Mean Linear:\", objective(abalone.I,abalone.N,w))\n",
    "abalone.plot(w,'Mean ')\n",
    "#Fisher\n",
    "w = fisher(abalone.I,abalone.N)\n",
    "print(\"Fisher:\", objective(abalone.I,abalone.N,w))\n",
    "abalone.plot(w,'Fisher')\n",
    "#Expand\n",
    "w = fisher(expand(abalone.I),expand(abalone.N))\n",
    "print(\"Fisher after Expansion:\", objective(expand(abalone.N),expand(abalone.I),w))\n",
    "abalone.N = expand(abalone.N)\n",
    "abalone.I = expand(abalone.I)\n",
    "abalone.plot(w,'Fisher after Expansion')\n",
    "\n",
    "#####"
   ]
  }
 ],
 "metadata": {
  "kernelspec": {
   "display_name": "Python 3 (ipykernel)",
   "language": "python",
   "name": "python3"
  },
  "language_info": {
   "codemirror_mode": {
    "name": "ipython",
    "version": 3
   },
   "file_extension": ".py",
   "mimetype": "text/x-python",
   "name": "python",
   "nbconvert_exporter": "python",
   "pygments_lexer": "ipython3",
   "version": "3.10.12"
  }
 },
 "nbformat": 4,
 "nbformat_minor": 1
}
