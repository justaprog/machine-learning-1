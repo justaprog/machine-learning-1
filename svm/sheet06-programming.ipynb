{
 "cells": [
  {
   "cell_type": "markdown",
   "metadata": {},
   "source": [
    "# Kernel Support Vector Machines\n",
    "\n",
    "In this exercise sheet, we will implement a kernel SVM. Our implementation will be based on a generic quadratic programming optimizer provided in CVXOPT (`python-cvxopt` package, or directly from the website `www.cvxopt.org`). The SVM will then be tested on the UCI breast cancer dataset, a simple binary classification dataset accessible via the `scikit-learn` library.\n",
    "\n",
    "## 1. Building the Gaussian Kernel (5 P)\n",
    "\n",
    "As a starting point, we would like to implement the Gaussian kernel, which we will make use of in our kernel SVM implementation. It is defined as:\n",
    "$$\n",
    "k(x,x') = \\exp \\Big( -\\frac{\\|x-x'\\|^2}{2 \\sigma^2} \\Big)\n",
    "$$\n",
    "\n",
    "* **Implement a function `getGaussianKernel` that returns for a Gaussian kernel of scale $\\sigma$, the Gram matrix of the two data sets given as argument.**"
   ]
  },
  {
   "cell_type": "code",
   "execution_count": 1,
   "metadata": {
    "execution": {
     "iopub.execute_input": "2024-11-19T11:14:31.115621Z",
     "iopub.status.busy": "2024-11-19T11:14:31.115277Z",
     "iopub.status.idle": "2024-11-19T11:14:31.478026Z",
     "shell.execute_reply": "2024-11-19T11:14:31.477520Z"
    }
   },
   "outputs": [],
   "source": [
    "import numpy,scipy,scipy.spatial\n",
    "\n",
    "def getGaussianKernel(X1,X2,scale):\n",
    "    sq_dists = scipy.spatial.distance.cdist(X1, X2, 'sqeuclidean')\n",
    "    K = numpy.exp(-sq_dists / (2 * scale ** 2))\n",
    "    return K"
   ]
  },
  {
   "cell_type": "markdown",
   "metadata": {},
   "source": [
    "## 2. Building the Matrices for the CVXOPT Quadratic Solver (20 P)\n",
    "\n",
    "We would like to learn a nonlinear SVM by optimizing its dual. An advantage of the dual SVM compared to the primal SVM is that it allows to use nonlinear kernels such as the Gaussian kernel. The dual SVM consists of solving the following quadratic program:\n",
    "\n",
    "$$\n",
    "\\max_\\alpha \\sum_{i=1}^N \\alpha_i - \\frac12 \\sum_{ij} \\alpha_i \\alpha_j y_i y_j k(x_i,x_j)\n",
    "\\qquad \n",
    "\\text{subject to:}\n",
    "\\qquad 0 \\leq \\alpha_i \\leq C \\qquad \\text{and} \\qquad \\sum_{i=1}^N \\alpha_i y_i = 0.\n",
    "$$\n",
    "\n",
    "We would like to rely on a CVXOPT solver to obtain a solution to our SVM dual. The function `cvxopt.solvers.qp` solves an optimization problem of the type:\n",
    "\n",
    "\\begin{align*}\n",
    "\\min_{\\boldsymbol{x}} \\quad &\\frac12 \\boldsymbol{x}^\\top P \\boldsymbol{x} + \\boldsymbol{q}^\\top \\boldsymbol{x}\\\\\n",
    "\\text{subject to} \\quad & G \\boldsymbol{x} \\preceq \\boldsymbol{h}\\\\\n",
    "\\text{and} \\quad & A \\boldsymbol{x} = \\boldsymbol{b}.\n",
    "\\end{align*}\n",
    "\n",
    "which is of similar form to our dual SVM (note that $\\boldsymbol{x}$ will correspond to the parameters $(\\alpha_i)_i$ of the SVM). We need to build the data structures (vectors and matrices) that makes solving this quadratic problem equivalent to solving our dual SVM.\n",
    "\n",
    "* **Implement a function `getQPMatrices` that builds the matrices `P`, `q`, `G`, `h`, `A`, `b` (of type `cvxopt.matrix`) that need to be passed as argument to the optimizer `cvxopt.solvers.qp`.**"
   ]
  },
  {
   "cell_type": "code",
   "execution_count": 2,
   "metadata": {
    "execution": {
     "iopub.execute_input": "2024-11-19T11:14:31.480517Z",
     "iopub.status.busy": "2024-11-19T11:14:31.480396Z",
     "iopub.status.idle": "2024-11-19T11:14:31.495245Z",
     "shell.execute_reply": "2024-11-19T11:14:31.494720Z"
    }
   },
   "outputs": [],
   "source": [
    "import cvxopt,cvxopt.solvers\n",
    "cvxopt.solvers.options['show_progress'] = False\n",
    "\n",
    "def getQPMatrices(K,T,C):\n",
    "    N = T.shape[0]  # Number of samples\n",
    "    P = numpy.outer(T, T) * K   # P = T * K * T\n",
    "    q = -numpy.ones((N, 1))  # q = [-1, -1, ..., -1] (size N x 1)\n",
    "    G = numpy.vstack([-numpy.eye(N), numpy.eye(N)])  # G = [ -I ; I ] (size 2N x N)\n",
    "    h = numpy.vstack([numpy.zeros((N, 1)), numpy.ones((N, 1)) * C])  # h = [0; C] (size 2N x 1)\n",
    "    A = T.reshape(1, -1)  # A = [y_1, y_2, ..., y_N] (size 1 x N)\n",
    "    b = numpy.zeros((1, 1))  # b = 0 \n",
    "    \n",
    "    # Convert numpy arrays to cvxopt matrices\n",
    "    P = cvxopt.matrix(P)\n",
    "    q = cvxopt.matrix(q)\n",
    "    G = cvxopt.matrix(G)\n",
    "    h = cvxopt.matrix(h)\n",
    "    A = cvxopt.matrix(A)\n",
    "    b = cvxopt.matrix(b)\n",
    "    return P,q,G,h,A,b"
   ]
  },
  {
   "cell_type": "markdown",
   "metadata": {},
   "source": [
    "## 3. Computing the Bias Parameters (10 P)\n",
    "\n",
    "Given the parameters $(\\alpha_i)_i$ the optimization procedure has found, the prediction of the SVM is given by:\n",
    "\n",
    "$$\n",
    "f(x) = \\text{sign}\\Big(\\sum_{i=1}^N \\alpha_i y_i k(x,x_i) + \\theta\\Big)\n",
    "$$\n",
    "\n",
    "Note that the parameter $\\theta$ has not been computed yet. It can be obtained from any support vector that lies exactly on the margin, or equivalently, whose associated parameter $\\alpha$ is not equal to $0$ or $C$. Calling one such vector \"$x_M$\", the parameter $\\theta$ can be computed as:\n",
    "\n",
    "$$\n",
    "\\theta =  y_M - \\sum_{j=1}^N \\alpha_j y_j k(x_M,x_j) \n",
    "$$\n",
    "\n",
    "* **Implement a function `getTheta` that takes as inumpyut the Gram Matrix used for training, the label vector, the solution of our quadratic program, and the hyperparameter C. The function should return the parameter $\\theta$.**"
   ]
  },
  {
   "cell_type": "code",
   "execution_count": 3,
   "metadata": {
    "execution": {
     "iopub.execute_input": "2024-11-19T11:14:31.497456Z",
     "iopub.status.busy": "2024-11-19T11:14:31.497349Z",
     "iopub.status.idle": "2024-11-19T11:14:31.499274Z",
     "shell.execute_reply": "2024-11-19T11:14:31.498811Z"
    }
   },
   "outputs": [],
   "source": [
    "def getTheta(K,T,alpha,C):\n",
    "    # Find the support vectors (those with 0 < alpha_i < C)\n",
    "    eta = 1e-6\n",
    "    support_vectors_indices = numpy.where((alpha > eta) & (alpha < C-2*eta))[0]\n",
    "\n",
    "    # Select the support vector\n",
    "    idx_M = support_vectors_indices[0]\n",
    "    \n",
    "    # Get the label of the support vector\n",
    "    y_M = T[idx_M]\n",
    "\n",
    "    # Compute the sum part of the formula\n",
    "    sum_kernel = numpy.sum(alpha * T * K[idx_M, :])\n",
    "    \n",
    "    # Compute θ using the formula: θ = y_M - sum(alpha_j * y_j * k(x_M, x_j))\n",
    "    theta = y_M - sum_kernel\n",
    "    \n",
    "    return theta"
   ]
  },
  {
   "cell_type": "markdown",
   "metadata": {},
   "source": [
    "## 4. Implementing a class `GaussianSVM` (15 P)\n",
    "\n",
    "All functions that are needed to learn the SVM have now been built. We would like to implement a SVM class that connects them and make the SVM easily usable. The class structure is given below and contains two functions, one for training the model, and one for applying it to test data.\n",
    "\n",
    "* **Implement the function `fit` that makes use of the functions `getGaussianKernel`, `getQPMatrices`, `getTheta` you have already implemented. The function should learn the SVM model and store the support vectors, their label, $(\\alpha_i)_i$ and $\\theta$ into the object (`self`).**\n",
    "* **Implement the function `predict` that makes use of the stored information to compute the SVM output for any new collection of data points**"
   ]
  },
  {
   "cell_type": "code",
   "execution_count": 4,
   "metadata": {
    "execution": {
     "iopub.execute_input": "2024-11-19T11:14:31.501350Z",
     "iopub.status.busy": "2024-11-19T11:14:31.501245Z",
     "iopub.status.idle": "2024-11-19T11:14:31.503457Z",
     "shell.execute_reply": "2024-11-19T11:14:31.503204Z"
    }
   },
   "outputs": [],
   "source": [
    "class GaussianSVM:\n",
    "\n",
    "    def __init__(self,C=1.0,scale=1.0):\n",
    "        \n",
    "        self.C, self.scale = C, scale\n",
    "    \n",
    "    def fit(self,X,T):\n",
    "        K = getGaussianKernel(X, X, self.scale)\n",
    "        P, q, G, h, A, b = getQPMatrices(K, T, self.C)\n",
    "        solution = cvxopt.solvers.qp(P, q, G, h, A, b)\n",
    "        alpha = numpy.array(solution['x']).flatten() \n",
    "        self.theta = getTheta(K, T, alpha, self.C) \n",
    "        self.X = X[numpy.where((alpha > 0) & (alpha < C))[0]] \n",
    "        self.support_labels = T[numpy.where((alpha > 0) & (alpha < C))[0]]\n",
    "        self.support_alpha = alpha[numpy.where((alpha > 0) & (alpha < C))[0]]\n",
    "\n",
    "    def predict(self,X):\n",
    "        Y = []\n",
    "        for x in X:\n",
    "            decision = 0\n",
    "            K_x = getGaussianKernel(numpy.array([x]), self.X, self.scale).flatten()  # (1, N) vector\n",
    "            decision = numpy.sum(self.support_alpha * self.support_labels * K_x) + self.theta\n",
    "            Y.append(numpy.sign(decision))\n",
    "        \n",
    "        return Y"
   ]
  },
  {
   "cell_type": "markdown",
   "metadata": {},
   "source": [
    "## 5. Analysis\n",
    "\n",
    "The following code tests the SVM on some breast cancer binary classification dataset for a range of scale and soft-margin parameters. For each combination of parameters, we output the number of support vectors as well as the train and test accuracy averaged over a number of random train/test splits. Running the code below should take approximately 1-2 minutes."
   ]
  },
  {
   "cell_type": "code",
   "execution_count": 5,
   "metadata": {
    "execution": {
     "iopub.execute_input": "2024-11-19T11:14:31.505576Z",
     "iopub.status.busy": "2024-11-19T11:14:31.505429Z",
     "iopub.status.idle": "2024-11-19T11:15:37.708930Z",
     "shell.execute_reply": "2024-11-19T11:15:37.708185Z"
    }
   },
   "outputs": [
    {
     "name": "stdout",
     "output_type": "stream",
     "text": [
      "scale=     30.0  C=     10.0  nSV:  284  train: 0.997  test: 0.921\n",
      "scale=     30.0  C=    100.0  nSV:  284  train: 1.000  test: 0.917\n",
      "scale=     30.0  C=   1000.0  nSV:  284  train: 1.000  test: 0.917\n",
      "scale=     30.0  C=  10000.0  nSV:  284  train: 1.000  test: 0.918\n",
      "\n",
      "scale=    100.0  C=     10.0  nSV:  284  train: 0.966  test: 0.934\n",
      "scale=    100.0  C=    100.0  nSV:  284  train: 0.987  test: 0.938\n",
      "scale=    100.0  C=   1000.0  nSV:  284  train: 0.997  test: 0.929\n",
      "scale=    100.0  C=  10000.0  nSV:  284  train: 0.965  test: 0.894\n",
      "\n",
      "scale=    300.0  C=     10.0  nSV:  284  train: 0.937  test: 0.925\n",
      "scale=    300.0  C=    100.0  nSV:  284  train: 0.961  test: 0.943\n",
      "scale=    300.0  C=   1000.0  nSV:  284  train: 0.940  test: 0.915\n",
      "scale=    300.0  C=  10000.0  nSV:  284  train: 0.891  test: 0.855\n",
      "\n",
      "scale=   1000.0  C=     10.0  nSV:  284  train: 0.930  test: 0.915\n",
      "scale=   1000.0  C=    100.0  nSV:  284  train: 0.928  test: 0.919\n",
      "scale=   1000.0  C=   1000.0  nSV:  284  train: 0.896  test: 0.892\n",
      "scale=   1000.0  C=  10000.0  nSV:  284  train: 0.852  test: 0.840\n",
      "\n",
      "scale=   3000.0  C=     10.0  nSV:  284  train: 0.912  test: 0.903\n",
      "scale=   3000.0  C=    100.0  nSV:  284  train: 0.913  test: 0.911\n",
      "scale=   3000.0  C=   1000.0  nSV:  284  train: 0.885  test: 0.871\n",
      "scale=   3000.0  C=  10000.0  nSV:  284  train: 0.867  test: 0.854\n",
      "\n"
     ]
    }
   ],
   "source": [
    "import numpy,sklearn,sklearn.datasets,numpy\n",
    "\n",
    "D = sklearn.datasets.load_breast_cancer()\n",
    "X = D['data']\n",
    "T = D['target']\n",
    "T = (D['target']==1)*2.0-1.0\n",
    "\n",
    "for scale in [30,100,300,1000,3000]:\n",
    "    for C in [10,100,1000,10000]:\n",
    "        \n",
    "        acctrain,acctest,nbsvs = [],[],[]\n",
    "        \n",
    "        svm = GaussianSVM(C=C,scale=scale)\n",
    "        \n",
    "        for i in range(10):\n",
    "\n",
    "            # Split the data\n",
    "            R = numpy.random.mtrand.RandomState(i).permutation(len(X))\n",
    "            Xtrain,Xtest = X[R[:len(R)//2]]*1,X[R[len(R)//2:]]*1\n",
    "            Ttrain,Ttest = T[R[:len(R)//2]]*1,T[R[len(R)//2:]]*1\n",
    "\n",
    "            # Train and test the SVM\n",
    "            svm.fit(Xtrain,Ttrain)\n",
    "            acctrain += [(svm.predict(Xtrain)==Ttrain).mean()]\n",
    "            acctest  += [(svm.predict(Xtest)==Ttest).mean()]\n",
    "            nbsvs += [len(svm.X)*1.0]\n",
    "\n",
    "        print('scale=%9.1f  C=%9.1f  nSV: %4d  train: %.3f  test: %.3f'%(\n",
    "            scale,C,numpy.mean(nbsvs),numpy.mean(acctrain),numpy.mean(acctest)))\n",
    "    print('')"
   ]
  },
  {
   "cell_type": "markdown",
   "metadata": {},
   "source": [
    "We observe that the highest accuracy is obtained with a scale parameter that is neither too small nor too large. Best parameters are also often associated to a low number of support vectors."
   ]
  }
 ],
 "metadata": {
  "kernelspec": {
   "display_name": "Python (myenv)",
   "language": "python",
   "name": "mypython"
  },
  "language_info": {
   "codemirror_mode": {
    "name": "ipython",
    "version": 3
   },
   "file_extension": ".py",
   "mimetype": "text/x-python",
   "name": "python",
   "nbconvert_exporter": "python",
   "pygments_lexer": "ipython3",
   "version": "3.12.4"
  }
 },
 "nbformat": 4,
 "nbformat_minor": 1
}
